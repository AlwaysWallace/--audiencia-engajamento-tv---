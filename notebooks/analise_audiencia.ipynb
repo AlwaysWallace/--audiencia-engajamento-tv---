{
 "cells": [
  {
   "cell_type": "code",
   "execution_count": null,
   "id": "0da19f66",
   "metadata": {
    "vscode": {
     "languageId": "plaintext"
    }
   },
   "outputs": [],
   "source": [
    "Imports\n",
    "import pandas as pd\n",
    "from src.limpeza_dados import limpar_audiencia, limpar_redes_sociais\n",
    "from src.visualizacoes import plot_audiencia "
   ]
  },
  {
   "cell_type": "code",
   "execution_count": null,
   "id": "09db1a47",
   "metadata": {
    "vscode": {
     "languageId": "plaintext"
    }
   },
   "outputs": [],
   "source": [
    "# Carregar os dados CSV\n",
    "audiencia = pd.read_csv('../data/audiencia.csv')\n",
    "redes = pd.read_csv('../data/redes_sociais.csv')\n",
    "\n",
    "# Visualizar amostras\n",
    "display(audiencia.head())\n",
    "display(redes.head())"
   ]
  },
  {
   "cell_type": "code",
   "execution_count": null,
   "id": "a6a34a0a",
   "metadata": {
    "vscode": {
     "languageId": "plaintext"
    }
   },
   "outputs": [],
   "source": [
    "# Aplicar funções de limpeza\n",
    "audiencia = limpar_audiencia(audiencia)\n",
    "redes = limpar_redes_sociais(redes)"
   ]
  },
  {
   "cell_type": "code",
   "execution_count": null,
   "id": "431c1f7c",
   "metadata": {
    "vscode": {
     "languageId": "plaintext"
    }
   },
   "outputs": [],
   "source": [
    "# Gráfico de audiência ao longo do tempo\n",
    "plot_audiencia(audiencia)\n",
    "plt.savefig('../data/grafico_audiencia.png')"
   ]
  },
  {
   "cell_type": "code",
   "execution_count": null,
   "id": "074d619b",
   "metadata": {
    "vscode": {
     "languageId": "plaintext"
    }
   },
   "outputs": [],
   "source": [
    "# Juntar os dados por data e programa\n",
    "df_merge = pd.merge(audiencia, redes, on=['data', 'programa'])\n",
    "\n",
    "# Ver correlação entre audiência e engajamento\n",
    "print(df_merge[['audiencia', 'engajamento']].corr())"
   ]
  },
  {
   "cell_type": "code",
   "execution_count": null,
   "id": "f409136d",
   "metadata": {
    "vscode": {
     "languageId": "plaintext"
    }
   },
   "outputs": [],
   "source": [
    "# Exportar o DataFrame final para CSV\n",
    "df_merge.to_csv('../data/analise_final.csv', index=False)"
   ]
  },
  {
   "cell_type": "code",
   "execution_count": null,
   "id": "47649b07",
   "metadata": {
    "vscode": {
     "languageId": "plaintext"
    }
   },
   "outputs": [],
   "source": []
  }
 ],
 "metadata": {
  "language_info": {
   "name": "python"
  }
 },
 "nbformat": 4,
 "nbformat_minor": 5
}
